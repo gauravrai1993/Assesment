{
 "cells": [
  {
   "cell_type": "code",
   "execution_count": 1,
   "id": "791b6065",
   "metadata": {},
   "outputs": [
    {
     "name": "stdout",
     "output_type": "stream",
     "text": [
      "Requirement already satisfied: pymysql in c:\\users\\admin\\anaconda3\\lib\\site-packages (1.0.2)\n",
      "Note: you may need to restart the kernel to use updated packages.\n"
     ]
    }
   ],
   "source": [
    "pip install pymysql"
   ]
  },
  {
   "cell_type": "code",
   "execution_count": 2,
   "id": "a409e929",
   "metadata": {},
   "outputs": [
    {
     "ename": "SyntaxError",
     "evalue": "positional argument follows keyword argument (<ipython-input-2-abd4fc67539e>, line 42)",
     "output_type": "error",
     "traceback": [
      "\u001b[1;36m  File \u001b[1;32m\"<ipython-input-2-abd4fc67539e>\"\u001b[1;36m, line \u001b[1;32m42\u001b[0m\n\u001b[1;33m    a2=Thread(target=move,args==path1,path2)\u001b[0m\n\u001b[1;37m                          ^\u001b[0m\n\u001b[1;31mSyntaxError\u001b[0m\u001b[1;31m:\u001b[0m positional argument follows keyword argument\n"
     ]
    }
   ],
   "source": [
    "import numpy as np\n",
    "import pandas as pd\n",
    "import pymysql as pm   \n",
    "import mysql.connector as myconn\n",
    "from threading import *\n",
    "import os\n",
    "import time\n",
    "\n",
    "\n",
    "path1 = 'code1/Processing/'\n",
    "path2 = 'code2/queue/'\n",
    "path3 = 'code3/processed/'\n",
    "\n",
    "def begin(pa1):\n",
    "    for i in range(10):#Set range according to file creation\n",
    "        with open(os.path.join(pa1, f'myfile{i}.txt'), 'w') as fp:\n",
    "            pass\n",
    "    time.sleep(1)\n",
    "\n",
    "\n",
    "def change(pa1,pa2):\n",
    "    for j in range(2):#Set range according to create fun\n",
    "        time.sleep(5)\n",
    "        all_files = os.listdir(pa1)\n",
    "        for f1 in all_files:\n",
    "            os.rename(pa1+f1,pa2+f1)\n",
    "\n",
    "\n",
    "def new_move(pa2,pa3): #create database & name it Assessment\n",
    "    conn = pm.connect(host='localhost',user='root',password='****',database='Assessment')\n",
    "    cursor = conn.cursor()\n",
    "    for k in range(2):#Set range according to create and move fun\n",
    "        time.sleep(5)\n",
    "        all_files = os.listdir(pa2)\n",
    "        for f2 in all_files:\n",
    "            cursor.execute('create table file_check(file_name varchar(255), present int)')\n",
    "            cursor.execute('insert into file_check (file_name, present) values (f2,1)')\n",
    "            conn.commit()\n",
    "            os.rename(pa2+f2,pa3+f2)\n",
    "            \n",
    "a1=Thread(target=create,args=path1)\n",
    "a2=Thread(target=move,args==path1,path2)\n",
    "a3=Thread(target=update,args=path2,path3)\n",
    "a1.start()\n",
    "a2.start()\n",
    "a3.start()"
   ]
  }
 ],
 "metadata": {
  "kernelspec": {
   "display_name": "Python 3",
   "language": "python",
   "name": "python3"
  },
  "language_info": {
   "codemirror_mode": {
    "name": "ipython",
    "version": 3
   },
   "file_extension": ".py",
   "mimetype": "text/x-python",
   "name": "python",
   "nbconvert_exporter": "python",
   "pygments_lexer": "ipython3",
   "version": "3.8.8"
  }
 },
 "nbformat": 4,
 "nbformat_minor": 5
}
