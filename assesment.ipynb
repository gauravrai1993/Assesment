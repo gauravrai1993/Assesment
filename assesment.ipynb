import numpy as np
import pandas as pd
import pymysql as pm   
import mysql.connector as myconn
from threading import *
import os
import time


path1 = 'code1/Processing/'
path2 = 'code2/queue/'
path3 = 'code3/processed/'

def begin(pa1):
    for i in range(10):#Set range according to file creation
        with open(os.path.join(pa1, f'myfile{i}.txt'), 'w') as fp:
            pass
    time.sleep(1)


def change(pa1,pa2):
    for j in range(2):#Set range according to create fun
        time.sleep(5)
        all_files = os.listdir(pa1)
        for f1 in all_files:
            os.rename(pa1+f1,pa2+f1)


def new_move(pa2,pa3): #create database & name it Assessment
    conn = pm.connect(host='localhost',user='root',password='****',database='Assessment')
    cursor = conn.cursor()
    for k in range(2):#Set range according to create and move fun
        time.sleep(5)
        all_files = os.listdir(pa2)
        for f2 in all_files:
            cursor.execute('create table file_check(file_name varchar(255), present int)')
            cursor.execute('insert into file_check (file_name, present) values (f2,1)')
            conn.commit()
            os.rename(pa2+f2,pa3+f2)
